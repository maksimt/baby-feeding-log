{
 "cells": [
  {
   "cell_type": "code",
   "execution_count": null,
   "id": "6dfa9066-edba-42ee-8511-460b4d9e257c",
   "metadata": {},
   "outputs": [],
   "source": [
    "from data_access import events_dataframe\n",
    "from plots import cumulative_history_plot"
   ]
  },
  {
   "cell_type": "code",
   "execution_count": null,
   "id": "2824c097-2a12-4ffc-b525-a7627632aa69",
   "metadata": {},
   "outputs": [],
   "source": [
    "%load_ext autoreload\n",
    "%autoreload 2"
   ]
  },
  {
   "cell_type": "code",
   "execution_count": null,
   "id": "6a130bc0-12d6-478c-ac5c-22d7223eb919",
   "metadata": {},
   "outputs": [],
   "source": [
    "df = events_dataframe()"
   ]
  },
  {
   "cell_type": "code",
   "execution_count": null,
   "id": "7dbff7b2-7097-4b0c-833d-e0e51ae2cb2b",
   "metadata": {},
   "outputs": [],
   "source": [
    "fig = cumulative_history_plot(tz='US/Pacific', df=df)\n",
    "fig.show()"
   ]
  }
 ],
 "metadata": {
  "kernelspec": {
   "display_name": "Python 3 (ipykernel)",
   "language": "python",
   "name": "python3"
  },
  "language_info": {
   "codemirror_mode": {
    "name": "ipython",
    "version": 3
   },
   "file_extension": ".py",
   "mimetype": "text/x-python",
   "name": "python",
   "nbconvert_exporter": "python",
   "pygments_lexer": "ipython3",
   "version": "3.9.7"
  }
 },
 "nbformat": 4,
 "nbformat_minor": 5
}
